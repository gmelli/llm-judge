{
 "cells": [
  {
   "cell_type": "markdown",
   "metadata": {},
   "source": [
    "# LLM-as-Judge Library Demo\n",
    "\n",
    "This notebook demonstrates the key features of the LLM-as-Judge library."
   ]
  },
  {
   "cell_type": "markdown",
   "metadata": {},
   "source": [
    "## 1. Installation\n",
    "\n",
    "First, install the library with provider support:"
   ]
  },
  {
   "cell_type": "code",
   "execution_count": null,
   "metadata": {},
   "outputs": [],
   "source": [
    "# Install the library\n",
    "# !pip install llm-judge[providers]"
   ]
  },
  {
   "cell_type": "markdown",
   "metadata": {},
   "source": [
    "## 2. Basic Setup"
   ]
  },
  {
   "cell_type": "code",
   "execution_count": null,
   "metadata": {},
   "outputs": [],
   "source": [
    "import asyncio\n",
    "from llm_judge import (\n",
    "    Judge,\n",
    "    CategoryRegistry,\n",
    "    CategoryDefinition,\n",
    "    CharacteristicProperty,\n",
    "    PropertyType,\n",
    "    Range,\n",
    ")\n",
    "\n",
    "# For Jupyter notebooks\n",
    "import nest_asyncio\n",
    "nest_asyncio.apply()"
   ]
  },
  {
   "cell_type": "markdown",
   "metadata": {},
   "source": [
    "## 3. Using Built-in Categories"
   ]
  },
  {
   "cell_type": "code",
   "execution_count": null,
   "metadata": {},
   "outputs": [],
   "source": [
    "# Load the category registry\n",
    "registry = CategoryRegistry()\n",
    "\n",
    "# List available categories\n",
    "print(\"Available categories:\")\n",
    "for category in registry.list_categories():\n",
    "    print(f\"  - {category}\")\n",
    "\n",
    "# Get a specific category\n",
    "academic_category = registry.get(\"academic_writing\")\n",
    "print(f\"\\nCategory: {academic_category.name}\")\n",
    "print(f\"Description: {academic_category.description}\")"
   ]
  },
  {
   "cell_type": "markdown",
   "metadata": {},
   "source": [
    "## 4. Evaluating Content"
   ]
  },
  {
   "cell_type": "code",
   "execution_count": null,
   "metadata": {},
   "outputs": [],
   "source": [
    "# Initialize judge with mock provider (no API key needed)\n",
    "judge = Judge(provider=\"mock\", temperature=0.1)\n",
    "\n",
    "# Sample academic content\n",
    "academic_content = \"\"\"\n",
    "This study examines the impact of climate change on biodiversity in tropical ecosystems.\n",
    "According to Smith et al. (2023), rising temperatures have led to a 30% decline in \n",
    "species diversity over the past decade [1]. The methodology employed systematic review\n",
    "of peer-reviewed literature from 2010-2023, analyzing 150 studies across 45 countries.\n",
    "Results indicate significant correlation (p<0.001) between temperature increase and\n",
    "habitat loss [2].\n",
    "\"\"\"\n",
    "\n",
    "# Evaluate the content\n",
    "result = await judge.evaluate(academic_content, academic_category)\n",
    "\n",
    "print(f\"Matches category: {result.matches_category}\")\n",
    "print(f\"Confidence: {result.confidence:.2f}\")\n",
    "print(f\"\\nFeedback: {result.feedback}\")"
   ]
  },
  {
   "cell_type": "markdown",
   "metadata": {},
   "source": [
    "## 5. Creating Custom Categories"
   ]
  },
  {
   "cell_type": "code",
   "execution_count": null,
   "metadata": {},
   "outputs": [],
   "source": [
    "# Define a custom category for code documentation\n",
    "code_doc_category = CategoryDefinition(\n",
    "    name=\"code_documentation\",\n",
    "    description=\"Well-documented code with clear explanations\",\n",
    "    characteristic_properties=[\n",
    "        CharacteristicProperty(\n",
    "            name=\"has_docstrings\",\n",
    "            property_type=PropertyType.NECESSARY,\n",
    "            formal_definition=\"Contains docstrings for functions/classes\",\n",
    "            measurement_function=lambda c: '\"\"\"' in c or \"'''\" in c,\n",
    "            threshold=True,\n",
    "            weight=2.0,\n",
    "        ),\n",
    "        CharacteristicProperty(\n",
    "            name=\"comment_ratio\",\n",
    "            property_type=PropertyType.TYPICAL,\n",
    "            formal_definition=\"Ratio of comment lines to code lines\",\n",
    "            measurement_function=lambda c: len([l for l in c.split('\\n') if l.strip().startswith('#')]) / max(len(c.split('\\n')), 1),\n",
    "            threshold=0.1,  # At least 10% comments\n",
    "            weight=1.0,\n",
    "        ),\n",
    "    ],\n",
    ")\n",
    "\n",
    "# Register the custom category\n",
    "registry.register(code_doc_category)\n",
    "\n",
    "print(f\"Registered category: {code_doc_category.name}\")"
   ]
  },
  {
   "cell_type": "code",
   "execution_count": null,
   "metadata": {},
   "outputs": [],
   "source": [
    "# Test with code sample\n",
    "code_sample = '''\n",
    "def calculate_fibonacci(n: int) -> int:\n",
    "    \"\"\"\n",
    "    Calculate the nth Fibonacci number.\n",
    "    \n",
    "    Args:\n",
    "        n: The position in the Fibonacci sequence\n",
    "        \n",
    "    Returns:\n",
    "        The nth Fibonacci number\n",
    "    \"\"\"\n",
    "    # Base cases\n",
    "    if n <= 0:\n",
    "        return 0\n",
    "    elif n == 1:\n",
    "        return 1\n",
    "    \n",
    "    # Recursive calculation\n",
    "    return calculate_fibonacci(n-1) + calculate_fibonacci(n-2)\n",
    "'''\n",
    "\n",
    "result = await judge.evaluate(code_sample, code_doc_category)\n",
    "print(f\"Is well-documented code: {result.matches_category}\")\n",
    "print(f\"Confidence: {result.confidence:.2f}\")"
   ]
  },
  {
   "cell_type": "markdown",
   "metadata": {},
   "source": [
    "## 6. Content Comparison"
   ]
  },
  {
   "cell_type": "code",
   "execution_count": null,
   "metadata": {},
   "outputs": [],
   "source": [
    "# Original stub article\n",
    "original = \"Python is a programming language.\"\n",
    "\n",
    "# Enhanced version\n",
    "enhanced = \"\"\"\n",
    "Python is a high-level, interpreted programming language known for its\n",
    "simplicity and readability. Created by Guido van Rossum and first released\n",
    "in 1991, Python emphasizes code readability with its use of significant\n",
    "indentation. It supports multiple programming paradigms including procedural,\n",
    "object-oriented, and functional programming. Python's extensive standard\n",
    "library and vast ecosystem of third-party packages make it suitable for\n",
    "web development, data science, artificial intelligence, and automation.\n",
    "\"\"\"\n",
    "\n",
    "# Create a wiki stub category\n",
    "wiki_stub = CategoryDefinition(\n",
    "    name=\"wiki_stub\",\n",
    "    description=\"Short Wikipedia article that needs expansion\",\n",
    "    characteristic_properties=[\n",
    "        CharacteristicProperty(\n",
    "            name=\"word_count\",\n",
    "            property_type=PropertyType.NECESSARY,\n",
    "            formal_definition=\"Word count between 50 and 500\",\n",
    "            measurement_function=lambda c: len(c.split()),\n",
    "            threshold=Range(min=50, max=500),\n",
    "            weight=2.0,\n",
    "        ),\n",
    "    ],\n",
    ")\n",
    "\n",
    "# Compare versions\n",
    "comparison = await judge.compare(original, enhanced, wiki_stub)\n",
    "\n",
    "print(f\"Original score: {comparison.original_score:.2f}\")\n",
    "print(f\"Enhanced score: {comparison.modified_score:.2f}\")\n",
    "print(f\"Improvement: {comparison.progress_percentage:.1f}%\")\n",
    "print(f\"\\nRecommendation: {comparison.recommendation}\")"
   ]
  },
  {
   "cell_type": "markdown",
   "metadata": {},
   "source": [
    "## 7. Batch Evaluation"
   ]
  },
  {
   "cell_type": "code",
   "execution_count": null,
   "metadata": {},
   "outputs": [],
   "source": [
    "# Multiple contents to evaluate\n",
    "contents = [\n",
    "    \"The quantum mechanical model describes electron behavior in atoms.\",\n",
    "    \"According to recent studies [1], the hypothesis was confirmed (p<0.05).\",\n",
    "    \"LOL this is so cool! Check it out!!!\",\n",
    "    \"The systematic review analyzed 50 peer-reviewed papers from 2020-2023.\",\n",
    "]\n",
    "\n",
    "# Batch evaluation\n",
    "results = await judge.batch_evaluate(contents, academic_category)\n",
    "\n",
    "# Display results\n",
    "for i, (content, result) in enumerate(zip(contents, results), 1):\n",
    "    print(f\"Content {i}: {content[:50]}...\")\n",
    "    print(f\"  Academic: {result.matches_category}\")\n",
    "    print(f\"  Confidence: {result.confidence:.2f}\")\n",
    "    print()"
   ]
  },
  {
   "cell_type": "markdown",
   "metadata": {},
   "source": [
    "## 8. Using Real LLM Providers\n",
    "\n",
    "To use real LLM providers, set your API keys as environment variables:"
   ]
  },
  {
   "cell_type": "code",
   "execution_count": null,
   "metadata": {},
   "outputs": [],
   "source": [
    "# Example with OpenAI (requires API key)\n",
    "# import os\n",
    "# os.environ[\"OPENAI_API_KEY\"] = \"your-api-key-here\"\n",
    "# \n",
    "# judge_openai = Judge(provider=\"openai\", model=\"gpt-4-turbo-preview\")\n",
    "# result = await judge_openai.evaluate(content, category)\n",
    "\n",
    "# Example with Anthropic\n",
    "# os.environ[\"ANTHROPIC_API_KEY\"] = \"your-api-key-here\"\n",
    "# judge_claude = Judge(provider=\"anthropic\", model=\"claude-3-opus-20240229\")\n",
    "\n",
    "# Example with Google Gemini\n",
    "# os.environ[\"GOOGLE_API_KEY\"] = \"your-api-key-here\"\n",
    "# judge_gemini = Judge(provider=\"gemini\", model=\"gemini-1.5-pro\")\n",
    "\n",
    "print(\"To use real providers, uncomment the code above and add your API keys.\")"
   ]
  },
  {
   "cell_type": "markdown",
   "metadata": {},
   "source": [
    "## 9. Multi-Provider Consensus"
   ]
  },
  {
   "cell_type": "code",
   "execution_count": null,
   "metadata": {},
   "outputs": [],
   "source": [
    "from llm_judge import ConsensusMode\n",
    "\n",
    "# Use multiple mock providers for demonstration\n",
    "# In production, you'd use different real providers\n",
    "from llm_judge.providers.mock import MockProvider\n",
    "\n",
    "providers = [\n",
    "    MockProvider(always_match=True),\n",
    "    MockProvider(always_match=True),\n",
    "    MockProvider(always_match=False),  # Dissenting judge\n",
    "]\n",
    "\n",
    "# Create judge with consensus\n",
    "consensus_judge = Judge(\n",
    "    provider=providers,\n",
    "    consensus_mode=ConsensusMode.MAJORITY\n",
    ")\n",
    "\n",
    "# Evaluate with consensus\n",
    "result = await consensus_judge.evaluate(academic_content, academic_category)\n",
    "\n",
    "print(f\"Consensus result: {result.matches_category}\")\n",
    "print(f\"Agreement details: {result.metadata}\")"
   ]
  },
  {
   "cell_type": "markdown",
   "metadata": {},
   "source": [
    "## 10. Analytics and Monitoring"
   ]
  },
  {
   "cell_type": "code",
   "execution_count": null,
   "metadata": {},
   "outputs": [],
   "source": [
    "# Check cache statistics\n",
    "stats = judge.get_cache_stats()\n",
    "print(f\"Cache statistics:\")\n",
    "print(f\"  Size: {stats['size']}\")\n",
    "print(f\"  Hits: {stats['hits']}\")\n",
    "print(f\"  Misses: {stats['misses']}\")\n",
    "\n",
    "# Clear cache if needed\n",
    "judge.clear_cache()\n",
    "print(\"\\nCache cleared!\")"
   ]
  },
  {
   "cell_type": "markdown",
   "metadata": {},
   "source": [
    "## Summary\n",
    "\n",
    "This notebook demonstrated:\n",
    "- Using built-in categories\n",
    "- Creating custom categories with properties\n",
    "- Evaluating content against categories\n",
    "- Comparing content versions\n",
    "- Batch evaluation\n",
    "- Multi-provider consensus\n",
    "- Cache management\n",
    "\n",
    "For more examples and documentation, see the [GitHub repository](https://github.com/gmelli/llm-judge)."
   ]
  }
 ],
 "metadata": {
  "kernelspec": {
   "display_name": "Python 3",
   "language": "python",
   "name": "python3"
  },
  "language_info": {
   "codemirror_mode": {
    "name": "ipython",
    "version": 3
   },
   "file_extension": ".py",
   "mimetype": "text/x-python",
   "name": "python",
   "nbconvert_exporter": "python",
   "pygments_lexer": "ipython3",
   "version": "3.9.0"
  }
 },
 "nbformat": 4,
 "nbformat_minor": 4
}